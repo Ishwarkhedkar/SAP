{
 "cells": [
  {
   "cell_type": "code",
   "execution_count": 1,
   "id": "9a3d28f7",
   "metadata": {},
   "outputs": [],
   "source": [
    "#create a list with five item"
   ]
  },
  {
   "cell_type": "code",
   "execution_count": 2,
   "id": "fae135b6",
   "metadata": {},
   "outputs": [],
   "source": [
    "my_list = [\"apple\", 42, 3.14, True, \"python\"]"
   ]
  },
  {
   "cell_type": "code",
   "execution_count": 3,
   "id": "b989a94f",
   "metadata": {},
   "outputs": [
    {
     "data": {
      "text/plain": [
       "['apple', 42, 3.14, True, 'python']"
      ]
     },
     "execution_count": 3,
     "metadata": {},
     "output_type": "execute_result"
    }
   ],
   "source": [
    "my_list"
   ]
  },
  {
   "cell_type": "code",
   "execution_count": 6,
   "id": "cb683968",
   "metadata": {},
   "outputs": [],
   "source": [
    "import pandas as pd"
   ]
  },
  {
   "cell_type": "code",
   "execution_count": null,
   "id": "5443f74e",
   "metadata": {},
   "outputs": [],
   "source": []
  }
 ],
 "metadata": {
  "kernelspec": {
   "display_name": "Python 3 (ipykernel)",
   "language": "python",
   "name": "python3"
  },
  "language_info": {
   "codemirror_mode": {
    "name": "ipython",
    "version": 3
   },
   "file_extension": ".py",
   "mimetype": "text/x-python",
   "name": "python",
   "nbconvert_exporter": "python",
   "pygments_lexer": "ipython3",
   "version": "3.11.3"
  }
 },
 "nbformat": 4,
 "nbformat_minor": 5
}
